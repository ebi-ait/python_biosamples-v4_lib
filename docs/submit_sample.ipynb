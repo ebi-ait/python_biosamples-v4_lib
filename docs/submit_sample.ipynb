{
 "cells": [
  {
   "cell_type": "markdown",
   "metadata": {},
   "source": [
    "# Submit a sample with biosamples-v4 package"
   ]
  },
  {
   "cell_type": "markdown",
   "metadata": {},
   "source": [
    "## Install from git\n",
    "```\n",
    "cd <install directory>\n",
    "git clone git@github.com:ebi-ait/python_biosamples-v4_lib.git\n",
    "pip install <install_directory>/python_biosamples-v4_lib\n",
    "```"
   ]
  },
  {
   "cell_type": "markdown",
   "metadata": {},
   "source": [
    "## Import useful modules"
   ]
  },
  {
   "cell_type": "code",
   "execution_count": 1,
   "metadata": {},
   "outputs": [],
   "source": [
    "import biosamples_v4.aap\n",
    "import biosamples_v4.api\n",
    "import biosamples_v4.models\n",
    "import biosamples_v4.encoders\n",
    "import datetime\n",
    "import os\n",
    "import pprint\n",
    "import json"
   ]
  },
  {
   "cell_type": "markdown",
   "metadata": {},
   "source": [
    "## AAP functions"
   ]
  },
  {
   "cell_type": "markdown",
   "metadata": {},
   "source": [
    "The lib creates a client for interacting with the AAP apis, you can either set up for the prod or development i.e. \"explore\" instance following the steps below. \n",
    "\n",
    "You can either setup your environment to have variables for your usernames and passwords or replace the `os.environ[\"<>\"]` text in the commands below."
   ]
  },
  {
   "cell_type": "markdown",
   "metadata": {},
   "source": [
    "### Prod AAI instance"
   ]
  },
  {
   "cell_type": "code",
   "execution_count": 2,
   "metadata": {},
   "outputs": [],
   "source": [
    "aap_client = biosamples_v4.aap.Client(username=os.environ[\"AAP_USERNAME\"],\n",
    "                                     password=os.environ[\"AAP_PASSWORD\"],\n",
    "                                     url=\"https://api.aai.ebi.ac.uk\")"
   ]
  },
  {
   "cell_type": "code",
   "execution_count": null,
   "metadata": {
    "scrolled": true
   },
   "outputs": [],
   "source": [
    "aap_client.get_token()"
   ]
  },
  {
   "cell_type": "code",
   "execution_count": 3,
   "metadata": {},
   "outputs": [
    {
     "data": {
      "text/plain": [
       "{'userName': 'mshadbolt',\n",
       " 'email': 'mshadbolt@ebi.ac.uk',\n",
       " 'userReference': 'usr-c18a3b0f-ad87-4d2b-a77a-7904deec2f5f',\n",
       " '_links': {'self': {'href': 'https://api.aai.ebi.ac.uk/users/usr-c18a3b0f-ad87-4d2b-a77a-7904deec2f5f'}}}"
      ]
     },
     "execution_count": 3,
     "metadata": {},
     "output_type": "execute_result"
    }
   ],
   "source": [
    "aap_client.get_user_details()"
   ]
  },
  {
   "cell_type": "code",
   "execution_count": null,
   "metadata": {},
   "outputs": [],
   "source": [
    "aap_client.get_user_membership_domains()"
   ]
  },
  {
   "cell_type": "code",
   "execution_count": null,
   "metadata": {},
   "outputs": [],
   "source": [
    "aap_client.get_user_managed_domains()"
   ]
  },
  {
   "cell_type": "markdown",
   "metadata": {},
   "source": [
    "### Explore AAI instance"
   ]
  },
  {
   "cell_type": "code",
   "execution_count": 4,
   "metadata": {},
   "outputs": [],
   "source": [
    "aap_explore_client = biosamples_v4.aap.Client(username=os.environ[\"AAP_EXPLORE_USERNAME\"],\n",
    "                                     password=os.environ[\"AAP_EXPLORE_PASSWORD\"],\n",
    "                                     url=\"https://explore.api.aai.ebi.ac.uk\")"
   ]
  },
  {
   "cell_type": "code",
   "execution_count": null,
   "metadata": {},
   "outputs": [],
   "source": [
    "aap_explore_client.get_token()"
   ]
  },
  {
   "cell_type": "code",
   "execution_count": 5,
   "metadata": {},
   "outputs": [
    {
     "data": {
      "text/plain": [
       "{'userName': 'mshadbolt_dev',\n",
       " 'email': 'mshadbolt@ebi.ac.uk',\n",
       " 'userReference': 'usr-8791cec4-da80-41d1-b3b0-d8e96a7af318',\n",
       " '_links': {'self': {'href': 'https://explore.api.aai.ebi.ac.uk/users/usr-8791cec4-da80-41d1-b3b0-d8e96a7af318'}}}"
      ]
     },
     "execution_count": 5,
     "metadata": {},
     "output_type": "execute_result"
    }
   ],
   "source": [
    "aap_explore_client.get_user_details()"
   ]
  },
  {
   "cell_type": "code",
   "execution_count": null,
   "metadata": {
    "scrolled": true
   },
   "outputs": [],
   "source": [
    "aap_explore_client.get_user_membership_domains()"
   ]
  },
  {
   "cell_type": "code",
   "execution_count": null,
   "metadata": {
    "scrolled": true
   },
   "outputs": [],
   "source": [
    "aap_explore_client.get_user_managed_domains()"
   ]
  },
  {
   "cell_type": "markdown",
   "metadata": {},
   "source": [
    "## BioSamples API"
   ]
  },
  {
   "cell_type": "markdown",
   "metadata": {
    "heading_collapsed": true
   },
   "source": [
    "### Prod BioSamples API"
   ]
  },
  {
   "cell_type": "code",
   "execution_count": null,
   "metadata": {
    "hidden": true
   },
   "outputs": [],
   "source": [
    "bs_api_client = biosamples_v4.api.Client(\"https://www.ebi.ac.uk/biosamples\")"
   ]
  },
  {
   "cell_type": "code",
   "execution_count": null,
   "metadata": {
    "hidden": true
   },
   "outputs": [],
   "source": [
    "bs_api_client.fetch_sample(accession=\"SAMEA6913455\",\n",
    "                           jwt=aap_client.token)"
   ]
  },
  {
   "cell_type": "markdown",
   "metadata": {},
   "source": [
    "### Dev Biosamples API"
   ]
  },
  {
   "cell_type": "code",
   "execution_count": 6,
   "metadata": {},
   "outputs": [],
   "source": [
    "bs_dev_api_client = biosamples_v4.api.Client(\"https://wwwdev.ebi.ac.uk/biosamples\")"
   ]
  },
  {
   "cell_type": "code",
   "execution_count": 7,
   "metadata": {},
   "outputs": [
    {
     "name": "stdout",
     "output_type": "stream",
     "text": [
      "Found species for taxon 9606 with species Homo sapiens\n"
     ]
    }
   ],
   "source": [
    "test_sample = biosamples_v4.models.Sample(name=\"Bob\",\n",
    "                                          release=datetime.datetime(2020,6,28),\n",
    "                                          domain=\"subs.test-team-65\",\n",
    "                                          ncbi_taxon_id=9606\n",
    "                                         )"
   ]
  },
  {
   "cell_type": "code",
   "execution_count": 8,
   "metadata": {
    "scrolled": true
   },
   "outputs": [],
   "source": [
    "test_sample._append_organism_attribute()"
   ]
  },
  {
   "cell_type": "code",
   "execution_count": 9,
   "metadata": {},
   "outputs": [],
   "source": [
    "test_sample.attributes.extend([biosamples_v4.models.Attribute(name=\"disease\", \n",
    "                                                         value=\"diabetes mellitus\",\n",
    "                                                         iris=\"http://purl.obolibrary.org/obo/MONDO_0005015\"),\n",
    "                          biosamples_v4.models.Attribute(name=\"age\", \n",
    "                                                        value=\"57\", \n",
    "                                                        unit=\"year\",\n",
    "                                                        iris=\"http://www.ebi.ac.uk/uo/UO_0000036\"),\n",
    "                         biosamples_v4.models.Attribute(name=\"developmental stage\", \n",
    "                                                        value=\"human middle aged stage\", \n",
    "                                                        iris=\"http://purl.obolibrary.org/obo/HsapDv_0000092\")])"
   ]
  },
  {
   "cell_type": "code",
   "execution_count": 10,
   "metadata": {},
   "outputs": [],
   "source": [
    "bs_sample_encoder = biosamples_v4.encoders.SampleEncoder()"
   ]
  },
  {
   "cell_type": "code",
   "execution_count": 11,
   "metadata": {},
   "outputs": [
    {
     "name": "stdout",
     "output_type": "stream",
     "text": [
      "{'accession': None,\n",
      " 'characteristics': {'age': [{'ontologyTerms': ['http://www.ebi.ac.uk/uo/UO_0000036'],\n",
      "                              'text': '57',\n",
      "                              'unit': 'year'}],\n",
      "                     'developmental stage': [{'ontologyTerms': ['http://purl.obolibrary.org/obo/HsapDv_0000092'],\n",
      "                                              'text': 'human middle aged stage',\n",
      "                                              'unit': None}],\n",
      "                     'disease': [{'ontologyTerms': ['http://purl.obolibrary.org/obo/MONDO_0005015'],\n",
      "                                  'text': 'diabetes mellitus',\n",
      "                                  'unit': None}],\n",
      "                     'organism': [{'ontologyTerms': ['http://purl.obolibrary.org/obo/NCBITaxon_9606'],\n",
      "                                   'text': 'Homo sapiens',\n",
      "                                   'unit': None}]},\n",
      " 'contact': [],\n",
      " 'domain': 'subs.test-team-65',\n",
      " 'externalReferences': [],\n",
      " 'name': 'Bob',\n",
      " 'organization': [],\n",
      " 'relationships': [],\n",
      " 'release': '2020-06-28T00:00:00Z',\n",
      " 'update': '2020-06-29T13:44:07Z'}\n"
     ]
    }
   ],
   "source": [
    "pprint.pprint(bs_sample_encoder.default(test_sample))"
   ]
  },
  {
   "cell_type": "code",
   "execution_count": 12,
   "metadata": {},
   "outputs": [],
   "source": [
    "response = bs_dev_api_client.persist_sample(bs_sample_encoder.default(test_sample),\n",
    "                                jwt=aap_explore_client.token)\n"
   ]
  },
  {
   "cell_type": "code",
   "execution_count": 13,
   "metadata": {},
   "outputs": [
    {
     "name": "stdout",
     "output_type": "stream",
     "text": [
      "{'_links': {'curationDomain': {'href': 'https://wwwdev.ebi.ac.uk/biosamples/samples{?curationdomain}',\n",
      "                               'templated': True},\n",
      "            'curationLink': {'href': 'https://wwwdev.ebi.ac.uk/biosamples/samples/SAMEA7060350/curationlinks/{hash}',\n",
      "                             'templated': True},\n",
      "            'curationLinks': {'href': 'https://wwwdev.ebi.ac.uk/biosamples/samples/SAMEA7060350/curationlinks'},\n",
      "            'self': {'href': 'https://wwwdev.ebi.ac.uk/biosamples/samples'}},\n",
      " 'accession': 'SAMEA7060350',\n",
      " 'characteristics': {'age': [{'ontologyTerms': ['http://www.ebi.ac.uk/uo/UO_0000036'],\n",
      "                              'text': '57',\n",
      "                              'unit': 'year'}],\n",
      "                     'developmental stage': [{'ontologyTerms': ['http://purl.obolibrary.org/obo/HsapDv_0000092'],\n",
      "                                              'text': 'human middle aged '\n",
      "                                                      'stage'}],\n",
      "                     'disease': [{'ontologyTerms': ['http://purl.obolibrary.org/obo/MONDO_0005015'],\n",
      "                                  'text': 'diabetes mellitus'}],\n",
      "                     'organism': [{'ontologyTerms': ['http://purl.obolibrary.org/obo/NCBITaxon_9606'],\n",
      "                                   'text': 'Homo sapiens'}]},\n",
      " 'create': '2020-06-29T13:45:22.417Z',\n",
      " 'domain': 'subs.test-team-65',\n",
      " 'name': 'Bob',\n",
      " 'release': '2020-06-28T00:00:00Z',\n",
      " 'releaseDate': '2020-06-28',\n",
      " 'submittedVia': 'JSON_API',\n",
      " 'taxId': 9606,\n",
      " 'update': '2020-06-29T13:45:22.417Z',\n",
      " 'updateDate': '2020-06-29'}\n"
     ]
    }
   ],
   "source": [
    "pprint.pprint(response)"
   ]
  }
 ],
 "metadata": {
  "kernelspec": {
   "display_name": "Python 3 BioSamples",
   "language": "python",
   "name": "python3_biosamples"
  },
  "language_info": {
   "codemirror_mode": {
    "name": "ipython",
    "version": 3
   },
   "file_extension": ".py",
   "mimetype": "text/x-python",
   "name": "python",
   "nbconvert_exporter": "python",
   "pygments_lexer": "ipython3",
   "version": "3.7.4"
  },
  "toc": {
   "base_numbering": 1,
   "nav_menu": {},
   "number_sections": true,
   "sideBar": true,
   "skip_h1_title": false,
   "title_cell": "Table of Contents",
   "title_sidebar": "Contents",
   "toc_cell": false,
   "toc_position": {},
   "toc_section_display": true,
   "toc_window_display": false
  },
  "varInspector": {
   "cols": {
    "lenName": 16,
    "lenType": 16,
    "lenVar": 40
   },
   "kernels_config": {
    "python": {
     "delete_cmd_postfix": "",
     "delete_cmd_prefix": "del ",
     "library": "var_list.py",
     "varRefreshCmd": "print(var_dic_list())"
    },
    "r": {
     "delete_cmd_postfix": ") ",
     "delete_cmd_prefix": "rm(",
     "library": "var_list.r",
     "varRefreshCmd": "cat(var_dic_list()) "
    }
   },
   "types_to_exclude": [
    "module",
    "function",
    "builtin_function_or_method",
    "instance",
    "_Feature"
   ],
   "window_display": false
  }
 },
 "nbformat": 4,
 "nbformat_minor": 4
}
